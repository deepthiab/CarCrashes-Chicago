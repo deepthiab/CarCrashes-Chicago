{
 "cells": [
  {
   "cell_type": "markdown",
   "metadata": {},
   "source": [
    "# Project 5"
   ]
  },
  {
   "cell_type": "markdown",
   "metadata": {},
   "source": [
    "### Table of Contents\n",
    "\n",
    "* [Problem Statement](#Problem-Statement)\n",
    "* [Data Dictionary](#Data-Dictionary)\n",
    "* [2019 Crash Data](#2019-Crash-Data)\n",
    "* [2020 Crash Data](#2020-Crash-Data)"
   ]
  },
  {
   "cell_type": "markdown",
   "metadata": {},
   "source": [
    "### Problem Statement \n",
    "\n",
    "Is there a day of the week and/or time of day that correlates to car crashes in Chicago?\n",
    "\n",
    "https://data.cityofchicago.org/Transportation/Traffic-Crashes-Crashes/85ca-t3if\n",
    "    \n",
    "\n",
    "https://git.generalassemb.ly/DSI-R-Metropolis/project_5\n",
    "\n",
    "https://git.generalassemb.ly/dbvaddi/Project5"
   ]
  },
  {
   "cell_type": "markdown",
   "metadata": {},
   "source": [
    "### Data Dictionary\n",
    "\n"
   ]
  },
  {
   "cell_type": "markdown",
   "metadata": {},
   "source": [
    "|Feature|Type|Dataset|Description|\n",
    "|---|---|---|---|\n",
    "|"
   ]
  },
  {
   "cell_type": "markdown",
   "metadata": {},
   "source": [
    "Imports"
   ]
  },
  {
   "cell_type": "code",
   "execution_count": 1,
   "metadata": {},
   "outputs": [],
   "source": [
    "import pandas as pd\n",
    "import numpy as np\n",
    "import matplotlib.pyplot as plt\n",
    "import seaborn as sns\n",
    "\n",
    "pd.pandas.set_option('display.max_columns', None)\n",
    "pd.set_option('display.max_colwidth', 55)"
   ]
  },
  {
   "cell_type": "markdown",
   "metadata": {},
   "source": [
    "### 2019 Crash Data"
   ]
  },
  {
   "cell_type": "code",
   "execution_count": 2,
   "metadata": {},
   "outputs": [],
   "source": [
    "df_19 = pd.read_csv('Traffic_Crashes__Crashes_2019.csv')"
   ]
  },
  {
   "cell_type": "code",
   "execution_count": 3,
   "metadata": {},
   "outputs": [
    {
     "data": {
      "text/plain": [
       "(117427, 49)"
      ]
     },
     "execution_count": 3,
     "metadata": {},
     "output_type": "execute_result"
    }
   ],
   "source": [
    "df_19.shape"
   ]
  },
  {
   "cell_type": "code",
   "execution_count": 4,
   "metadata": {
    "scrolled": true
   },
   "outputs": [
    {
     "data": {
      "text/plain": [
       "NO INDICATION OF INJURY     100883\n",
       "NONINCAPACITATING INJURY      9190\n",
       "REPORTED, NOT EVIDENT         4981\n",
       "INCAPACITATING INJURY         2008\n",
       "FATAL                          102\n",
       "Name: MOST_SEVERE_INJURY, dtype: int64"
      ]
     },
     "execution_count": 4,
     "metadata": {},
     "output_type": "execute_result"
    }
   ],
   "source": [
    "df_19['MOST_SEVERE_INJURY'].value_counts()"
   ]
  },
  {
   "cell_type": "markdown",
   "metadata": {},
   "source": [
    "Mapping target variable."
   ]
  },
  {
   "cell_type": "code",
   "execution_count": 5,
   "metadata": {},
   "outputs": [
    {
     "data": {
      "text/plain": [
       "0         0.0\n",
       "1         0.0\n",
       "2         0.0\n",
       "3         0.0\n",
       "4         0.0\n",
       "         ... \n",
       "117422    0.0\n",
       "117423    0.0\n",
       "117424    0.0\n",
       "117425    0.0\n",
       "117426    0.0\n",
       "Name: MOST_SEVERE_INJURY, Length: 117427, dtype: float64"
      ]
     },
     "execution_count": 5,
     "metadata": {},
     "output_type": "execute_result"
    }
   ],
   "source": [
    "df_19['MOST_SEVERE_INJURY'].map({'FATAL': 1, 'INCAPACITATING INJURY': 1, 'NONINCAPACITATING INJURY': 0, \n",
    "                                 'REPORTED, NOT EVIDENT': 0, 'NO INDICATION OF INJURY' : 0})"
   ]
  },
  {
   "cell_type": "markdown",
   "metadata": {},
   "source": [
    "Checking for null values."
   ]
  },
  {
   "cell_type": "code",
   "execution_count": 6,
   "metadata": {
    "scrolled": true
   },
   "outputs": [
    {
     "data": {
      "text/plain": [
       "CRASH_RECORD_ID                       0\n",
       "RD_NO                                 0\n",
       "CRASH_DATE_EST_I                 108787\n",
       "CRASH_DATE                            0\n",
       "POSTED_SPEED_LIMIT                    0\n",
       "TRAFFIC_CONTROL_DEVICE                0\n",
       "DEVICE_CONDITION                      0\n",
       "WEATHER_CONDITION                     0\n",
       "LIGHTING_CONDITION                    0\n",
       "FIRST_CRASH_TYPE                      0\n",
       "TRAFFICWAY_TYPE                       0\n",
       "LANE_CNT                          98175\n",
       "ALIGNMENT                             0\n",
       "ROADWAY_SURFACE_COND                  0\n",
       "ROAD_DEFECT                           0\n",
       "REPORT_TYPE                        3609\n",
       "CRASH_TYPE                            0\n",
       "INTERSECTION_RELATED_I            89521\n",
       "NOT_RIGHT_OF_WAY_I               111617\n",
       "HIT_AND_RUN_I                     84161\n",
       "DAMAGE                                0\n",
       "DATE_POLICE_NOTIFIED                  0\n",
       "PRIM_CONTRIBUTORY_CAUSE               0\n",
       "SEC_CONTRIBUTORY_CAUSE                0\n",
       "STREET_NO                             0\n",
       "STREET_DIRECTION                      0\n",
       "STREET_NAME                           0\n",
       "BEAT_OF_OCCURRENCE                    0\n",
       "PHOTOS_TAKEN_I                   116053\n",
       "STATEMENTS_TAKEN_I               115044\n",
       "DOORING_I                        117048\n",
       "WORK_ZONE_I                      116808\n",
       "WORK_ZONE_TYPE                   116943\n",
       "WORKERS_PRESENT_I                117236\n",
       "NUM_UNITS                             0\n",
       "MOST_SEVERE_INJURY                  263\n",
       "INJURIES_TOTAL                      263\n",
       "INJURIES_FATAL                      263\n",
       "INJURIES_INCAPACITATING             263\n",
       "INJURIES_NON_INCAPACITATING         263\n",
       "INJURIES_REPORTED_NOT_EVIDENT       263\n",
       "INJURIES_NO_INDICATION              263\n",
       "INJURIES_UNKNOWN                    263\n",
       "CRASH_HOUR                            0\n",
       "CRASH_DAY_OF_WEEK                     0\n",
       "CRASH_MONTH                           0\n",
       "LATITUDE                            917\n",
       "LONGITUDE                           917\n",
       "LOCATION                            917\n",
       "dtype: int64"
      ]
     },
     "execution_count": 6,
     "metadata": {},
     "output_type": "execute_result"
    }
   ],
   "source": [
    "df_19.isnull().sum()"
   ]
  },
  {
   "cell_type": "markdown",
   "metadata": {},
   "source": [
    "Dropping columns that are over 90% nulls."
   ]
  },
  {
   "cell_type": "code",
   "execution_count": 7,
   "metadata": {},
   "outputs": [],
   "source": [
    "df_19.drop(columns = ['PHOTOS_TAKEN_I', 'STATEMENTS_TAKEN_I', 'DOORING_I', 'WORK_ZONE_I', 'WORK_ZONE_TYPE', \n",
    "                       'WORKERS_PRESENT_I', 'HIT_AND_RUN_I', 'INTERSECTION_RELATED_I', 'NOT_RIGHT_OF_WAY_I',\n",
    "                       'LANE_CNT', 'CRASH_DATE_EST_I'], inplace = True)"
   ]
  },
  {
   "cell_type": "code",
   "execution_count": 8,
   "metadata": {},
   "outputs": [
    {
     "data": {
      "text/plain": [
       "CRASH_RECORD_ID                     0\n",
       "CRASH_MONTH                         0\n",
       "CRASH_DAY_OF_WEEK                   0\n",
       "CRASH_HOUR                          0\n",
       "NUM_UNITS                           0\n",
       "BEAT_OF_OCCURRENCE                  0\n",
       "STREET_NAME                         0\n",
       "STREET_DIRECTION                    0\n",
       "STREET_NO                           0\n",
       "PRIM_CONTRIBUTORY_CAUSE             0\n",
       "DATE_POLICE_NOTIFIED                0\n",
       "DAMAGE                              0\n",
       "CRASH_TYPE                          0\n",
       "SEC_CONTRIBUTORY_CAUSE              0\n",
       "ROAD_DEFECT                         0\n",
       "ROADWAY_SURFACE_COND                0\n",
       "ALIGNMENT                           0\n",
       "TRAFFICWAY_TYPE                     0\n",
       "RD_NO                               0\n",
       "FIRST_CRASH_TYPE                    0\n",
       "LIGHTING_CONDITION                  0\n",
       "WEATHER_CONDITION                   0\n",
       "DEVICE_CONDITION                    0\n",
       "TRAFFIC_CONTROL_DEVICE              0\n",
       "CRASH_DATE                          0\n",
       "POSTED_SPEED_LIMIT                  0\n",
       "INJURIES_UNKNOWN                  263\n",
       "INJURIES_NO_INDICATION            263\n",
       "INJURIES_REPORTED_NOT_EVIDENT     263\n",
       "INJURIES_TOTAL                    263\n",
       "INJURIES_INCAPACITATING           263\n",
       "INJURIES_FATAL                    263\n",
       "MOST_SEVERE_INJURY                263\n",
       "INJURIES_NON_INCAPACITATING       263\n",
       "LONGITUDE                         917\n",
       "LATITUDE                          917\n",
       "LOCATION                          917\n",
       "REPORT_TYPE                      3609\n",
       "dtype: int64"
      ]
     },
     "execution_count": 8,
     "metadata": {},
     "output_type": "execute_result"
    }
   ],
   "source": [
    "df_19.isnull().sum().sort_values()"
   ]
  },
  {
   "cell_type": "markdown",
   "metadata": {},
   "source": [
    "Dropping 'INJURIES_UNKNOWN' since all values are 0."
   ]
  },
  {
   "cell_type": "code",
   "execution_count": 9,
   "metadata": {},
   "outputs": [],
   "source": [
    "df_19.drop(columns = ['INJURIES_UNKNOWN'], inplace = True)"
   ]
  },
  {
   "cell_type": "markdown",
   "metadata": {},
   "source": [
    "Dropping irrelevant column."
   ]
  },
  {
   "cell_type": "code",
   "execution_count": 10,
   "metadata": {},
   "outputs": [],
   "source": [
    "df_19.drop(columns = ['REPORT_TYPE', 'CRASH_RECORD_ID', 'DATE_POLICE_NOTIFIED'], inplace = True)"
   ]
  },
  {
   "cell_type": "markdown",
   "metadata": {},
   "source": [
    "Dropping columns 'LATITUDE', 'LONGITUDE', and 'LOCATION' since the numerical values are not representative of magnitude nor order."
   ]
  },
  {
   "cell_type": "code",
   "execution_count": 11,
   "metadata": {},
   "outputs": [],
   "source": [
    "df_19.drop(columns = ['LATITUDE','LONGITUDE','LOCATION'], inplace = True)"
   ]
  },
  {
   "cell_type": "markdown",
   "metadata": {},
   "source": [
    "Dropping 'CRASH_DATE', since we have the hour, day of the week and month for aggregation."
   ]
  },
  {
   "cell_type": "code",
   "execution_count": 12,
   "metadata": {},
   "outputs": [],
   "source": [
    "df_19.drop(columns = ['CRASH_DATE'], inplace = True)"
   ]
  },
  {
   "cell_type": "markdown",
   "metadata": {},
   "source": [
    "Dropping 'DAMAGE' and 'WEATHER_CONDITION' since neither of us provide any helpful correlation."
   ]
  },
  {
   "cell_type": "code",
   "execution_count": 13,
   "metadata": {},
   "outputs": [],
   "source": [
    "df_19.drop(columns = ['DAMAGE', 'WEATHER_CONDITION', 'TRAFFIC_CONTROL_DEVICE', 'STREET_DIRECTION',\n",
    "                      'SEC_CONTRIBUTORY_CAUSE'], inplace = True)"
   ]
  },
  {
   "cell_type": "markdown",
   "metadata": {},
   "source": [
    "Filling in nulls with 0."
   ]
  },
  {
   "cell_type": "code",
   "execution_count": 14,
   "metadata": {},
   "outputs": [],
   "source": [
    "df_19['INJURIES_NO_INDICATION'].fillna('0', inplace = True)\n",
    "df_19['INJURIES_REPORTED_NOT_EVIDENT'].fillna('0', inplace = True)\n",
    "df_19['INJURIES_TOTAL'].fillna('0', inplace = True)\n",
    "df_19['INJURIES_INCAPACITATING'].fillna('0', inplace = True)\n",
    "df_19['INJURIES_FATAL'].fillna('0', inplace = True)\n",
    "df_19['INJURIES_NON_INCAPACITATING'].fillna('0', inplace = True)"
   ]
  },
  {
   "cell_type": "markdown",
   "metadata": {},
   "source": [
    "Filling nulls with 'NO INDICATION OF INJURY' for column 'MOST_SEVERE_INJURY' since that is the most common value and most likely to be the case if nothing was reported."
   ]
  },
  {
   "cell_type": "code",
   "execution_count": 15,
   "metadata": {},
   "outputs": [],
   "source": [
    "df_19['MOST_SEVERE_INJURY'].fillna('NO INDICATION OF INJURY', inplace = True)"
   ]
  },
  {
   "cell_type": "markdown",
   "metadata": {},
   "source": [
    "Drop remaining null values."
   ]
  },
  {
   "cell_type": "code",
   "execution_count": 16,
   "metadata": {},
   "outputs": [],
   "source": [
    "df_19.dropna(inplace = True)"
   ]
  },
  {
   "cell_type": "code",
   "execution_count": 17,
   "metadata": {},
   "outputs": [
    {
     "data": {
      "text/plain": [
       "UNABLE TO DETERMINE                                                                 43005\n",
       "FAILING TO YIELD RIGHT-OF-WAY                                                       12913\n",
       "FOLLOWING TOO CLOSELY                                                               12137\n",
       "NOT APPLICABLE                                                                       6673\n",
       "IMPROPER OVERTAKING/PASSING                                                          5594\n",
       "FAILING TO REDUCE SPEED TO AVOID CRASH                                               5553\n",
       "IMPROPER BACKING                                                                     5092\n",
       "IMPROPER LANE USAGE                                                                  4466\n",
       "IMPROPER TURNING/NO SIGNAL                                                           4099\n",
       "DRIVING SKILLS/KNOWLEDGE/EXPERIENCE                                                  3492\n",
       "WEATHER                                                                              2084\n",
       "DISREGARDING TRAFFIC SIGNALS                                                         2076\n",
       "OPERATING VEHICLE IN ERRATIC, RECKLESS, CARELESS, NEGLIGENT OR AGGRESSIVE MANNER     1412\n",
       "DISREGARDING STOP SIGN                                                               1301\n",
       "DISTRACTION - FROM INSIDE VEHICLE                                                     859\n",
       "EQUIPMENT - VEHICLE CONDITION                                                         780\n",
       "VISION OBSCURED (SIGNS, TREE LIMBS, BUILDINGS, ETC.)                                  734\n",
       "PHYSICAL CONDITION OF DRIVER                                                          727\n",
       "UNDER THE INFLUENCE OF ALCOHOL/DRUGS (USE WHEN ARREST IS EFFECTED)                    716\n",
       "DRIVING ON WRONG SIDE/WRONG WAY                                                       537\n",
       "DISTRACTION - FROM OUTSIDE VEHICLE                                                    516\n",
       "ROAD ENGINEERING/SURFACE/MARKING DEFECTS                                              457\n",
       "ROAD CONSTRUCTION/MAINTENANCE                                                         312\n",
       "EXCEEDING SAFE SPEED FOR CONDITIONS                                                   276\n",
       "DISREGARDING OTHER TRAFFIC SIGNS                                                      248\n",
       "EXCEEDING AUTHORIZED SPEED LIMIT                                                      219\n",
       "EVASIVE ACTION DUE TO ANIMAL, OBJECT, NONMOTORIST                                     196\n",
       "CELL PHONE USE OTHER THAN TEXTING                                                     182\n",
       "DISREGARDING ROAD MARKINGS                                                            174\n",
       "HAD BEEN DRINKING (USE WHEN ARREST IS NOT MADE)                                       118\n",
       "ANIMAL                                                                                108\n",
       "TURNING RIGHT ON RED                                                                   82\n",
       "RELATED TO BUS STOP                                                                    76\n",
       "DISTRACTION - OTHER ELECTRONIC DEVICE (NAVIGATION DEVICE, DVD PLAYER, ETC.)            67\n",
       "TEXTING                                                                                48\n",
       "DISREGARDING YIELD SIGN                                                                43\n",
       "PASSING STOPPED SCHOOL BUS                                                             21\n",
       "OBSTRUCTED CROSSWALKS                                                                  19\n",
       "BICYCLE ADVANCING LEGALLY ON RED LIGHT                                                  9\n",
       "MOTORCYCLE ADVANCING LEGALLY ON RED LIGHT                                               6\n",
       "Name: PRIM_CONTRIBUTORY_CAUSE, dtype: int64"
      ]
     },
     "execution_count": 17,
     "metadata": {},
     "output_type": "execute_result"
    }
   ],
   "source": [
    "df_19['PRIM_CONTRIBUTORY_CAUSE'].value_counts()"
   ]
  },
  {
   "cell_type": "code",
   "execution_count": 18,
   "metadata": {
    "scrolled": true
   },
   "outputs": [
    {
     "data": {
      "text/html": [
       "<div>\n",
       "<style scoped>\n",
       "    .dataframe tbody tr th:only-of-type {\n",
       "        vertical-align: middle;\n",
       "    }\n",
       "\n",
       "    .dataframe tbody tr th {\n",
       "        vertical-align: top;\n",
       "    }\n",
       "\n",
       "    .dataframe thead th {\n",
       "        text-align: right;\n",
       "    }\n",
       "</style>\n",
       "<table border=\"1\" class=\"dataframe\">\n",
       "  <thead>\n",
       "    <tr style=\"text-align: right;\">\n",
       "      <th></th>\n",
       "      <th>RD_NO</th>\n",
       "      <th>POSTED_SPEED_LIMIT</th>\n",
       "      <th>DEVICE_CONDITION</th>\n",
       "      <th>LIGHTING_CONDITION</th>\n",
       "      <th>FIRST_CRASH_TYPE</th>\n",
       "      <th>TRAFFICWAY_TYPE</th>\n",
       "      <th>ALIGNMENT</th>\n",
       "      <th>ROADWAY_SURFACE_COND</th>\n",
       "      <th>ROAD_DEFECT</th>\n",
       "      <th>CRASH_TYPE</th>\n",
       "      <th>PRIM_CONTRIBUTORY_CAUSE</th>\n",
       "      <th>STREET_NO</th>\n",
       "      <th>STREET_NAME</th>\n",
       "      <th>BEAT_OF_OCCURRENCE</th>\n",
       "      <th>NUM_UNITS</th>\n",
       "      <th>MOST_SEVERE_INJURY</th>\n",
       "      <th>INJURIES_TOTAL</th>\n",
       "      <th>INJURIES_FATAL</th>\n",
       "      <th>INJURIES_INCAPACITATING</th>\n",
       "      <th>INJURIES_NON_INCAPACITATING</th>\n",
       "      <th>INJURIES_REPORTED_NOT_EVIDENT</th>\n",
       "      <th>INJURIES_NO_INDICATION</th>\n",
       "      <th>CRASH_HOUR</th>\n",
       "      <th>CRASH_DAY_OF_WEEK</th>\n",
       "      <th>CRASH_MONTH</th>\n",
       "    </tr>\n",
       "  </thead>\n",
       "  <tbody>\n",
       "    <tr>\n",
       "      <th>0</th>\n",
       "      <td>JC111663</td>\n",
       "      <td>35</td>\n",
       "      <td>NO CONTROLS</td>\n",
       "      <td>UNKNOWN</td>\n",
       "      <td>PARKED MOTOR VEHICLE</td>\n",
       "      <td>NOT DIVIDED</td>\n",
       "      <td>STRAIGHT AND LEVEL</td>\n",
       "      <td>UNKNOWN</td>\n",
       "      <td>NO DEFECTS</td>\n",
       "      <td>NO INJURY / DRIVE AWAY</td>\n",
       "      <td>UNABLE TO DETERMINE</td>\n",
       "      <td>1600</td>\n",
       "      <td>56TH ST</td>\n",
       "      <td>235</td>\n",
       "      <td>2</td>\n",
       "      <td>NO INDICATION OF INJURY</td>\n",
       "      <td>0</td>\n",
       "      <td>0</td>\n",
       "      <td>0</td>\n",
       "      <td>0</td>\n",
       "      <td>0</td>\n",
       "      <td>1</td>\n",
       "      <td>0</td>\n",
       "      <td>3</td>\n",
       "      <td>1</td>\n",
       "    </tr>\n",
       "    <tr>\n",
       "      <th>1</th>\n",
       "      <td>JC100635</td>\n",
       "      <td>30</td>\n",
       "      <td>NO CONTROLS</td>\n",
       "      <td>DARKNESS</td>\n",
       "      <td>PARKED MOTOR VEHICLE</td>\n",
       "      <td>ONE-WAY</td>\n",
       "      <td>STRAIGHT AND LEVEL</td>\n",
       "      <td>WET</td>\n",
       "      <td>NO DEFECTS</td>\n",
       "      <td>NO INJURY / DRIVE AWAY</td>\n",
       "      <td>UNABLE TO DETERMINE</td>\n",
       "      <td>3332</td>\n",
       "      <td>MAYPOLE AVE</td>\n",
       "      <td>1123</td>\n",
       "      <td>2</td>\n",
       "      <td>NO INDICATION OF INJURY</td>\n",
       "      <td>0</td>\n",
       "      <td>0</td>\n",
       "      <td>0</td>\n",
       "      <td>0</td>\n",
       "      <td>0</td>\n",
       "      <td>1</td>\n",
       "      <td>0</td>\n",
       "      <td>3</td>\n",
       "      <td>1</td>\n",
       "    </tr>\n",
       "    <tr>\n",
       "      <th>2</th>\n",
       "      <td>JC100780</td>\n",
       "      <td>30</td>\n",
       "      <td>NO CONTROLS</td>\n",
       "      <td>DARKNESS, LIGHTED ROAD</td>\n",
       "      <td>PARKED MOTOR VEHICLE</td>\n",
       "      <td>DIVIDED - W/MEDIAN (NOT RAISED)</td>\n",
       "      <td>STRAIGHT AND LEVEL</td>\n",
       "      <td>UNKNOWN</td>\n",
       "      <td>UNKNOWN</td>\n",
       "      <td>INJURY AND / OR TOW DUE TO CRASH</td>\n",
       "      <td>UNABLE TO DETERMINE</td>\n",
       "      <td>1649</td>\n",
       "      <td>ADDISON ST</td>\n",
       "      <td>1922</td>\n",
       "      <td>2</td>\n",
       "      <td>NO INDICATION OF INJURY</td>\n",
       "      <td>0</td>\n",
       "      <td>0</td>\n",
       "      <td>0</td>\n",
       "      <td>0</td>\n",
       "      <td>0</td>\n",
       "      <td>1</td>\n",
       "      <td>0</td>\n",
       "      <td>3</td>\n",
       "      <td>1</td>\n",
       "    </tr>\n",
       "    <tr>\n",
       "      <th>3</th>\n",
       "      <td>JC100033</td>\n",
       "      <td>20</td>\n",
       "      <td>FUNCTIONING PROPERLY</td>\n",
       "      <td>DARKNESS, LIGHTED ROAD</td>\n",
       "      <td>TURNING</td>\n",
       "      <td>ONE-WAY</td>\n",
       "      <td>STRAIGHT AND LEVEL</td>\n",
       "      <td>WET</td>\n",
       "      <td>NO DEFECTS</td>\n",
       "      <td>NO INJURY / DRIVE AWAY</td>\n",
       "      <td>IMPROPER OVERTAKING/PASSING</td>\n",
       "      <td>188</td>\n",
       "      <td>MADISON ST</td>\n",
       "      <td>122</td>\n",
       "      <td>2</td>\n",
       "      <td>NO INDICATION OF INJURY</td>\n",
       "      <td>0</td>\n",
       "      <td>0</td>\n",
       "      <td>0</td>\n",
       "      <td>0</td>\n",
       "      <td>0</td>\n",
       "      <td>2</td>\n",
       "      <td>0</td>\n",
       "      <td>3</td>\n",
       "      <td>1</td>\n",
       "    </tr>\n",
       "    <tr>\n",
       "      <th>4</th>\n",
       "      <td>JC100171</td>\n",
       "      <td>30</td>\n",
       "      <td>NO CONTROLS</td>\n",
       "      <td>DARKNESS, LIGHTED ROAD</td>\n",
       "      <td>PARKED MOTOR VEHICLE</td>\n",
       "      <td>ONE-WAY</td>\n",
       "      <td>STRAIGHT AND LEVEL</td>\n",
       "      <td>DRY</td>\n",
       "      <td>UNKNOWN</td>\n",
       "      <td>NO INJURY / DRIVE AWAY</td>\n",
       "      <td>OPERATING VEHICLE IN ERRATIC, RECKLESS, CARELESS, N...</td>\n",
       "      <td>4054</td>\n",
       "      <td>MOBILE AVE</td>\n",
       "      <td>1624</td>\n",
       "      <td>3</td>\n",
       "      <td>NO INDICATION OF INJURY</td>\n",
       "      <td>0</td>\n",
       "      <td>0</td>\n",
       "      <td>0</td>\n",
       "      <td>0</td>\n",
       "      <td>0</td>\n",
       "      <td>5</td>\n",
       "      <td>0</td>\n",
       "      <td>3</td>\n",
       "      <td>1</td>\n",
       "    </tr>\n",
       "  </tbody>\n",
       "</table>\n",
       "</div>"
      ],
      "text/plain": [
       "      RD_NO  POSTED_SPEED_LIMIT      DEVICE_CONDITION      LIGHTING_CONDITION  \\\n",
       "0  JC111663                  35           NO CONTROLS                 UNKNOWN   \n",
       "1  JC100635                  30           NO CONTROLS                DARKNESS   \n",
       "2  JC100780                  30           NO CONTROLS  DARKNESS, LIGHTED ROAD   \n",
       "3  JC100033                  20  FUNCTIONING PROPERLY  DARKNESS, LIGHTED ROAD   \n",
       "4  JC100171                  30           NO CONTROLS  DARKNESS, LIGHTED ROAD   \n",
       "\n",
       "       FIRST_CRASH_TYPE                  TRAFFICWAY_TYPE           ALIGNMENT  \\\n",
       "0  PARKED MOTOR VEHICLE                      NOT DIVIDED  STRAIGHT AND LEVEL   \n",
       "1  PARKED MOTOR VEHICLE                          ONE-WAY  STRAIGHT AND LEVEL   \n",
       "2  PARKED MOTOR VEHICLE  DIVIDED - W/MEDIAN (NOT RAISED)  STRAIGHT AND LEVEL   \n",
       "3               TURNING                          ONE-WAY  STRAIGHT AND LEVEL   \n",
       "4  PARKED MOTOR VEHICLE                          ONE-WAY  STRAIGHT AND LEVEL   \n",
       "\n",
       "  ROADWAY_SURFACE_COND ROAD_DEFECT                        CRASH_TYPE  \\\n",
       "0              UNKNOWN  NO DEFECTS            NO INJURY / DRIVE AWAY   \n",
       "1                  WET  NO DEFECTS            NO INJURY / DRIVE AWAY   \n",
       "2              UNKNOWN     UNKNOWN  INJURY AND / OR TOW DUE TO CRASH   \n",
       "3                  WET  NO DEFECTS            NO INJURY / DRIVE AWAY   \n",
       "4                  DRY     UNKNOWN            NO INJURY / DRIVE AWAY   \n",
       "\n",
       "                                  PRIM_CONTRIBUTORY_CAUSE  STREET_NO  \\\n",
       "0                                     UNABLE TO DETERMINE       1600   \n",
       "1                                     UNABLE TO DETERMINE       3332   \n",
       "2                                     UNABLE TO DETERMINE       1649   \n",
       "3                             IMPROPER OVERTAKING/PASSING        188   \n",
       "4  OPERATING VEHICLE IN ERRATIC, RECKLESS, CARELESS, N...       4054   \n",
       "\n",
       "   STREET_NAME  BEAT_OF_OCCURRENCE  NUM_UNITS       MOST_SEVERE_INJURY  \\\n",
       "0      56TH ST                 235          2  NO INDICATION OF INJURY   \n",
       "1  MAYPOLE AVE                1123          2  NO INDICATION OF INJURY   \n",
       "2   ADDISON ST                1922          2  NO INDICATION OF INJURY   \n",
       "3   MADISON ST                 122          2  NO INDICATION OF INJURY   \n",
       "4   MOBILE AVE                1624          3  NO INDICATION OF INJURY   \n",
       "\n",
       "  INJURIES_TOTAL INJURIES_FATAL INJURIES_INCAPACITATING  \\\n",
       "0              0              0                       0   \n",
       "1              0              0                       0   \n",
       "2              0              0                       0   \n",
       "3              0              0                       0   \n",
       "4              0              0                       0   \n",
       "\n",
       "  INJURIES_NON_INCAPACITATING INJURIES_REPORTED_NOT_EVIDENT  \\\n",
       "0                           0                             0   \n",
       "1                           0                             0   \n",
       "2                           0                             0   \n",
       "3                           0                             0   \n",
       "4                           0                             0   \n",
       "\n",
       "  INJURIES_NO_INDICATION  CRASH_HOUR  CRASH_DAY_OF_WEEK  CRASH_MONTH  \n",
       "0                      1           0                  3            1  \n",
       "1                      1           0                  3            1  \n",
       "2                      1           0                  3            1  \n",
       "3                      2           0                  3            1  \n",
       "4                      5           0                  3            1  "
      ]
     },
     "execution_count": 18,
     "metadata": {},
     "output_type": "execute_result"
    }
   ],
   "source": [
    "df_19.head()"
   ]
  },
  {
   "cell_type": "code",
   "execution_count": 19,
   "metadata": {},
   "outputs": [],
   "source": [
    "dum = pd.get_dummies(df_19, columns = ['DEVICE_CONDITION',  \n",
    "                                       'LIGHTING_CONDITION',\n",
    "                                       'FIRST_CRASH_TYPE',\n",
    "                                       'TRAFFICWAY_TYPE',\n",
    "                                       'ALIGNMENT',\n",
    "                                       'ROADWAY_SURFACE_COND',\n",
    "                                       'ROAD_DEFECT',\n",
    "                                       'CRASH_TYPE',\n",
    "                                       'PRIM_CONTRIBUTORY_CAUSE'])"
   ]
  },
  {
   "cell_type": "code",
   "execution_count": 20,
   "metadata": {},
   "outputs": [],
   "source": [
    "df_19 = df_19.merge(dum)"
   ]
  },
  {
   "cell_type": "code",
   "execution_count": 21,
   "metadata": {},
   "outputs": [
    {
     "data": {
      "text/plain": [
       "(117427, 139)"
      ]
     },
     "execution_count": 21,
     "metadata": {},
     "output_type": "execute_result"
    }
   ],
   "source": [
    "df_19.shape"
   ]
  },
  {
   "cell_type": "markdown",
   "metadata": {},
   "source": [
    "##### Saving Cleaned DataFrames"
   ]
  },
  {
   "cell_type": "code",
   "execution_count": 22,
   "metadata": {},
   "outputs": [],
   "source": [
    "df_19.to_csv('crash_19', index = False)"
   ]
  },
  {
   "cell_type": "code",
   "execution_count": 23,
   "metadata": {},
   "outputs": [],
   "source": [
    "# for col in df_19.columns:\n",
    "#     print(df_19[col].value_counts(ascending=False))"
   ]
  },
  {
   "cell_type": "code",
   "execution_count": 24,
   "metadata": {},
   "outputs": [],
   "source": [
    "# correlation = df_19.corr()[['CRASH_DAY_OF_WEEK']]\n",
    "# plt.figure(figsize=(12,12))\n",
    "# sns.heatmap(data= correlation,\n",
    "#             cmap= 'coolwarm',      \n",
    "#             annot= True,\n",
    "#             vmax= 1,\n",
    "#             vmin= -1);"
   ]
  }
 ],
 "metadata": {
  "kernelspec": {
   "display_name": "Python 3",
   "language": "python",
   "name": "python3"
  },
  "language_info": {
   "codemirror_mode": {
    "name": "ipython",
    "version": 3
   },
   "file_extension": ".py",
   "mimetype": "text/x-python",
   "name": "python",
   "nbconvert_exporter": "python",
   "pygments_lexer": "ipython3",
   "version": "3.8.5"
  }
 },
 "nbformat": 4,
 "nbformat_minor": 4
}
